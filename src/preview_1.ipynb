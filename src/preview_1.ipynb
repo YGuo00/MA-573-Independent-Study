{
  "nbformat": 4,
  "nbformat_minor": 0,
  "metadata": {
    "colab": {
      "name": "Untitled0.ipynb",
      "provenance": [],
      "authorship_tag": "ABX9TyOI+IgrzypS9cEiZV1TvynG",
      "include_colab_link": true
    },
    "kernelspec": {
      "name": "python3",
      "display_name": "Python 3"
    },
    "language_info": {
      "name": "python"
    }
  },
  "cells": [
    {
      "cell_type": "markdown",
      "metadata": {
        "id": "view-in-github",
        "colab_type": "text"
      },
      "source": [
        "<a href=\"https://colab.research.google.com/github/YGuo00/MA-573-Independent-Study/blob/main/src/preview_1.ipynb\" target=\"_parent\"><img src=\"https://colab.research.google.com/assets/colab-badge.svg\" alt=\"Open In Colab\"/></a>"
      ]
    },
    {
      "cell_type": "code",
      "execution_count": null,
      "metadata": {
        "colab": {
          "base_uri": "https://localhost:8080/"
        },
        "id": "PvsWcwCBri1U",
        "outputId": "336d3e74-82b6-4f5c-de88-2e5725f74fd2"
      },
      "outputs": [
        {
          "output_type": "execute_result",
          "data": {
            "text/plain": [
              "4"
            ]
          },
          "metadata": {},
          "execution_count": 14
        }
      ],
      "source": [
        "2 + 2"
      ]
    },
    {
      "cell_type": "code",
      "source": [
        "import numpy as np     # library\n",
        "import matplotlib.pyplot as plt1 # graphical function library\n",
        "\n",
        "x = np.random.normal(1,10,10)   \n",
        "print(x)\n",
        "\n",
        "plt1.plot(x);\n",
        "plt1.xlabel('Time')\n",
        "plt1.ylabel('Returns')\n",
        "plt1.show()"
      ],
      "metadata": {
        "colab": {
          "base_uri": "https://localhost:8080/",
          "height": 314
        },
        "id": "Izj0PWYJr_89",
        "outputId": "9e890982-4d61-475c-b41d-478788a47a11"
      },
      "execution_count": 14,
      "outputs": [
        {
          "output_type": "stream",
          "name": "stdout",
          "text": [
            "[  8.94218784  -6.23396191  -1.96466612  -7.30704924  11.48280302\n",
            "   3.42003099   4.60298886  -1.71798354 -15.72821898   6.70434236]\n"
          ]
        },
        {
          "output_type": "display_data",
          "data": {
            "image/png": "[encoded data removed]",
            "text/plain": [
              "<Figure size 432x288 with 1 Axes>"
            ]
          },
          "metadata": {
            "needs_background": "light"
          }
        }
      ]
    },
    {
      "cell_type": "code",
      "source": [
        "np.mean(x)"
      ],
      "metadata": {
        "colab": {
          "base_uri": "https://localhost:8080/"
        },
        "id": "a6rrS6Rltjjl",
        "outputId": "1c421aac-3fd6-4cf6-fcd9-0631f73c27f8"
      },
      "execution_count": 15,
      "outputs": [
        {
          "output_type": "execute_result",
          "data": {
            "text/plain": [
              "0.22004732806229424"
            ]
          },
          "metadata": {},
          "execution_count": 15
        }
      ]
    },
    {
      "cell_type": "code",
      "source": [
        "np.std(x)"
      ],
      "metadata": {
        "colab": {
          "base_uri": "https://localhost:8080/"
        },
        "id": "qN-Nd034t3Zv",
        "outputId": "70df77ca-43aa-402e-aa91-3edef8e067bb"
      },
      "execution_count": 16,
      "outputs": [
        {
          "output_type": "execute_result",
          "data": {
            "text/plain": [
              "7.972509689002416"
            ]
          },
          "metadata": {},
          "execution_count": 16
        }
      ]
    }
  ]
}