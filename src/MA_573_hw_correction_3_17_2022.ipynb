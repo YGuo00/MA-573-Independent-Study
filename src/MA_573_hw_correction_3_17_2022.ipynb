{
  "nbformat": 4,
  "nbformat_minor": 0,
  "metadata": {
    "colab": {
      "name": "MA_573_hw_correction_3/17/2022.ipynb",
      "provenance": [],
      "authorship_tag": "ABX9TyOGVrpWwknHIz/Ty3WzZByx",
      "include_colab_link": true
    },
    "kernelspec": {
      "name": "python3",
      "display_name": "Python 3"
    },
    "language_info": {
      "name": "python"
    }
  },
  "cells": [
    {
      "cell_type": "markdown",
      "metadata": {
        "id": "view-in-github",
        "colab_type": "text"
      },
      "source": [
        "<a href=\"https://colab.research.google.com/github/YGuo00/MA-573-Independent-Study/blob/main/src/MA_573_hw_correction_3_17_2022.ipynb\" target=\"_parent\"><img src=\"https://colab.research.google.com/assets/colab-badge.svg\" alt=\"Open In Colab\"/></a>"
      ]
    },
    {
      "cell_type": "code",
      "execution_count": 1,
      "metadata": {
        "id": "MUYd2qH2FoEi"
      },
      "outputs": [],
      "source": [
        "# import libraries\n",
        "import numpy as np\n",
        "import scipy.stats as ss"
      ]
    },
    {
      "cell_type": "code",
      "source": [
        "# recall option class\n",
        "class VanillaOption:\n",
        "    def __init__(   # initialize method\n",
        "        self,\n",
        "        otype = 1,   # call = 1; put = -1\n",
        "        strike = 110.,\n",
        "        maturity = 1.,\n",
        "        market_price = 10.):\n",
        "      self.otype = otype\n",
        "      self.strike = strike\n",
        "      self.maturity = maturity\n",
        "      self.market_price = market_price\n",
        "\n",
        "    def payoff(self, s):   # s: exercise price\n",
        "        otype = self.otype\n",
        "        k = self.strike\n",
        "        maturitiy = self.maturity\n",
        "        return max([0, (s - k) * otype])"
      ],
      "metadata": {
        "id": "B69SIq4cFzwW"
      },
      "execution_count": 2,
      "outputs": []
    },
    {
      "cell_type": "code",
      "source": [
        "# recall Gbm class\n",
        "class Gbm:\n",
        "    def __init__(\n",
        "        self,\n",
        "        init_state = 100.,   # the first update method\n",
        "        drift_ratio = .0475,   # the ratio of maximum lateral drift to total height of the specimen\n",
        "        vol_ratio = .2):   # volatility ratio\n",
        "      self.init_state = init_state\n",
        "      self.drift_ratio = drift_ratio\n",
        "      self.vol_ratio = vol_ratio"
      ],
      "metadata": {
        "id": "1BDqcrL-F2AB"
      },
      "execution_count": 3,
      "outputs": []
    },
    {
      "cell_type": "code",
      "source": [
        "# recall Black-Scholes formula\n",
        "def bsm_price(self, vanilla_option):\n",
        "    s0 = self.init_state\n",
        "    sigma = self.vol_ratio\n",
        "    r = self.drift_ratio\n",
        "\n",
        "    otype = vanilla_option.otype\n",
        "    k = vanilla_option.strike\n",
        "    maturity = vanilla_option.maturity\n",
        "\n",
        "    # Black-Scholes formula for cdf of d1 and d2\n",
        "    d1 = (np.log(s0 / k) + (r + 0.5 * sigma ** 2) * maturity) / (sigma * np.sqrt(maturity))\n",
        "    d2 = d1 - sigma * np.sqrt(maturity)\n",
        "\n",
        "    return (otype * s0 * ss.norm.cdf(otype * d1) - otype * np.exp(-r * maturity) * k * ss.norm.cdf(otype * d2))   # ss.norm: normal continuous random \n",
        "    # variable\n",
        "\n",
        "Gbm.bsm_price = bsm_price"
      ],
      "metadata": {
        "id": "WvP5wGvtF4fh"
      },
      "execution_count": 4,
      "outputs": []
    },
    {
      "cell_type": "code",
      "source": [
        "# test Black-Scholes price\n",
        "gbm1 = Gbm(\n",
        "    init_state = 100.,\n",
        "    drift_ratio = .0475,\n",
        "    vol_ratio = 0.18)\n",
        "option1 = VanillaOption(\n",
        "    otype = 1.,\n",
        "    strike = 110.,\n",
        "    maturity = 1)\n",
        "\n",
        "print('call value is ' + str(gbm1.bsm_price(option1)))\n",
        "\n",
        "option2 = VanillaOption(otype = -1)\n",
        "print('put value is ' + str(gbm1.bsm_price(option2)))"
      ],
      "metadata": {
        "colab": {
          "base_uri": "https://localhost:8080/"
        },
        "id": "jaoujb2HF7J-",
        "outputId": "eb393d82-7f33-4c87-a1d3-30173f1f6504"
      },
      "execution_count": 5,
      "outputs": [
        {
          "output_type": "stream",
          "name": "stdout",
          "text": [
            "call value is 5.155187895384778\n",
            "put value is 10.052339939973677\n"
          ]
        }
      ]
    },
    {
      "cell_type": "code",
      "source": [
        "# error function: goal is to find a volatility such that associated BSM formula is equal to (fit) the market price\n",
        "def error_function(vol, gbm, option):\n",
        "    gbm.vol_ratio = vol\n",
        "\n",
        "    return abs(option.market_price - gbm.bsm_price(option))   # abs: absolute value"
      ],
      "metadata": {
        "id": "zKbN15kXF9ay"
      },
      "execution_count": 6,
      "outputs": []
    },
    {
      "cell_type": "code",
      "source": [
        "# method for implied volatility\n",
        "import scipy.optimize as so   # This library provides functions for minimizing (or maximizing) objective functions, possibly subject to constraints.\n",
        "\n",
        "def implied_volatility(gbm, option):\n",
        "    init_vol = .1  # initial guess\n",
        "\n",
        "    return so.fmin(error_function, init_vol, args = (gbm, option), disp = 0) [0]"
      ],
      "metadata": {
        "id": "R6E1ZL6MGACV"
      },
      "execution_count": 7,
      "outputs": []
    },
    {
      "cell_type": "code",
      "source": [
        "# test the implied volatility by reversing bsm_formula\n",
        "# hw correction: If the market put/call price is 10, what is the implied volitality?\n",
        "option1.market_price = 10\n",
        "option2.market_price = 10\n",
        "\n",
        "print('implied volatility is ' + str(implied_volatility(gbm1, option1)))\n",
        "print('implied volatility is ' + str(implied_volatility(gbm1, option2)))"
      ],
      "metadata": {
        "colab": {
          "base_uri": "https://localhost:8080/"
        },
        "id": "T3pX-HQSGCr7",
        "outputId": "f138621d-f9f7-4ed4-96da-a4543862b33b"
      },
      "execution_count": 8,
      "outputs": [
        {
          "output_type": "stream",
          "name": "stdout",
          "text": [
            "implied volatility is 0.3020312500000007\n",
            "implied volatility is 0.17867187500000026\n"
          ]
        }
      ]
    }
  ]
}