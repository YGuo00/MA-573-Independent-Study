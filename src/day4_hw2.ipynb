{
  "nbformat": 4,
  "nbformat_minor": 0,
  "metadata": {
    "colab": {
      "name": "day4_hw2.ipynb",
      "provenance": [],
      "authorship_tag": "ABX9TyNl0djMcEQW6oswalQoP/we",
      "include_colab_link": true
    },
    "kernelspec": {
      "name": "python3",
      "display_name": "Python 3"
    },
    "language_info": {
      "name": "python"
    }
  },
  "cells": [
    {
      "cell_type": "markdown",
      "metadata": {
        "id": "view-in-github",
        "colab_type": "text"
      },
      "source": [
        "<a href=\"https://colab.research.google.com/github/YGuo00/MA-573-Independent-Study/blob/main/src/day4_hw2.ipynb\" target=\"_parent\"><img src=\"https://colab.research.google.com/assets/colab-badge.svg\" alt=\"Open In Colab\"/></a>"
      ]
    },
    {
      "cell_type": "code",
      "execution_count": 1,
      "metadata": {
        "id": "DRY1PfSohnDD"
      },
      "outputs": [],
      "source": [
        "import numpy as np\n",
        "import scipy.stats as ss\n",
        "import matplotlib.pyplot as plt"
      ]
    },
    {
      "cell_type": "code",
      "source": [
        "class VanillaOption:\n",
        "    def __init__(   # initialize method\n",
        "        self,\n",
        "        otype = 1,   # call = 1; put = -1\n",
        "        strike = 110.,\n",
        "        maturity = 1.,\n",
        "        market_price = 10.):\n",
        "      self.otype = otype\n",
        "      self.strike = strike\n",
        "      self.maturity = maturity\n",
        "      self.market_price = market_price\n",
        "\n",
        "    def payoff(self, s):   # s: exercise price\n",
        "        otype = self.otype\n",
        "        k = self.strike\n",
        "        maturitiy = self.maturity\n",
        "        return max([0, (s - k) * otype])"
      ],
      "metadata": {
        "id": "BrErciRLhtjN"
      },
      "execution_count": 2,
      "outputs": []
    },
    {
      "cell_type": "code",
      "source": [
        "class Gbm:\n",
        "    def __init__(\n",
        "        self,\n",
        "        init_state = 100.,   \n",
        "        drift_ratio = .0475,   \n",
        "        vol_ratio = .2):   \n",
        "      self.init_state = init_state\n",
        "      self.drift_ratio = drift_ratio\n",
        "      self.vol_ratio = vol_ratio"
      ],
      "metadata": {
        "id": "ufWsT742hx0Z"
      },
      "execution_count": 3,
      "outputs": []
    },
    {
      "cell_type": "code",
      "source": [
        "def bsm_price(self, vanilla_option):\n",
        "    s0 = self.init_state\n",
        "    sigma = self.vol_ratio\n",
        "    r = self.drift_ratio\n",
        "\n",
        "    otype = vanilla_option.otype\n",
        "    k = vanilla_option.strike\n",
        "    maturity = vanilla_option.maturity\n",
        "\n",
        "    d1 = (np.log(s0 / k) + (r + 0.5 * sigma ** 2) * maturity) / (sigma * np.sqrt(maturity))\n",
        "    d2 = d1 - sigma * np.sqrt(maturity)\n",
        "\n",
        "    return (otype * s0 * ss.norm.cdf(otype * d1) - otype * np.exp(-r * maturity) * k * ss.norm.cdf(otype * d2)) \n",
        "\n",
        "Gbm.bsm_price = bsm_price"
      ],
      "metadata": {
        "id": "Hc7_-UgPh9t3"
      },
      "execution_count": 4,
      "outputs": []
    },
    {
      "cell_type": "code",
      "source": [
        "gbm1 = Gbm(\n",
        "    init_state = 100.,\n",
        "    drift_ratio = .0475,\n",
        "    vol_ratio = 0.2)\n",
        "\n",
        "option1 = VanillaOption(\n",
        "    otype = 1.,\n",
        "    strike = 110)\n",
        "\n",
        "T = np.arange(0.5, 2)\n",
        "Y = str(gbm1.bsm_price(option1))\n",
        "plt.plot(T, Y)\n",
        "\n",
        "plt.xlabel('maturity')\n",
        "plt.ylabel('BSM price')\n",
        "plt.title('maturity given volitality ratio')\n",
        "plt.show()"
      ],
      "metadata": {
        "colab": {
          "base_uri": "https://localhost:8080/",
          "height": 295
        },
        "id": "qdrAoyiLjHx2",
        "outputId": "d2c739dc-9f7a-49bb-b39d-c169176e1f64"
      },
      "execution_count": 7,
      "outputs": [
        {
          "output_type": "display_data",
          "data": {
            "image/png": "[encoded data removed]",
            "text/plain": [
              "<Figure size 432x288 with 1 Axes>"
            ]
          },
          "metadata": {
            "needs_background": "light"
          }
        }
      ]
    },
    {
      "cell_type": "code",
      "source": [
        "gbm1 = Gbm(\n",
        "    init_state = 100.,\n",
        "    drift_ratio = .0475)\n",
        "\n",
        "option1 = VanillaOption(\n",
        "    otype = 1.,\n",
        "    strike = 110,\n",
        "    maturity = 1)\n",
        "\n",
        "sigma = np.arange(0.05, 0.5)\n",
        "Y = str(gbm1.bsm_price(option1))\n",
        "plt.plot(sigma, Y)\n",
        "\n",
        "plt.xlabel('volatality ratio')\n",
        "plt.ylabel('BSM price')\n",
        "plt.title('volatality ratio given maturity')\n",
        "plt.show()"
      ],
      "metadata": {
        "id": "DOX1j-CHKFYx",
        "outputId": "6c2e640d-4173-4e5e-cc77-19c5e37b416f",
        "colab": {
          "base_uri": "https://localhost:8080/",
          "height": 295
        }
      },
      "execution_count": 8,
      "outputs": [
        {
          "output_type": "display_data",
          "data": {
            "image/png": "[encoded data removed]",
            "text/plain": [
              "<Figure size 432x288 with 1 Axes>"
            ]
          },
          "metadata": {
            "needs_background": "light"
          }
        }
      ]
    }
  ]
}