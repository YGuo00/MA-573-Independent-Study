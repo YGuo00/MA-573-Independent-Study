{
  "nbformat": 4,
  "nbformat_minor": 0,
  "metadata": {
    "colab": {
      "name": "volatility_smile.ipynb",
      "provenance": [],
      "authorship_tag": "ABX9TyPA1yYLT6ScVYi7DFu8Kdiw",
      "include_colab_link": true
    },
    "kernelspec": {
      "name": "python3",
      "display_name": "Python 3"
    },
    "language_info": {
      "name": "python"
    }
  },
  "cells": [
    {
      "cell_type": "markdown",
      "metadata": {
        "id": "view-in-github",
        "colab_type": "text"
      },
      "source": [
        "<a href=\"https://colab.research.google.com/github/YGuo00/MA-573-Independent-Study/blob/main/src/volatility_smile.ipynb\" target=\"_parent\"><img src=\"https://colab.research.google.com/assets/colab-badge.svg\" alt=\"Open In Colab\"/></a>"
      ]
    },
    {
      "cell_type": "code",
      "execution_count": 1,
      "metadata": {
        "id": "z3FTA8enM5dv"
      },
      "outputs": [],
      "source": [
        "# import libraries\n",
        "import matplotlib.pyplot as plt\n",
        "import numpy as np\n",
        "import scipy.optimize as so    # library for minimization and maximization\n",
        "import scipy.stats as ss   # library for statistical function     "
      ]
    },
    {
      "cell_type": "code",
      "source": [
        "# read datas\n",
        "# four columns: otype, maturity, strike, option_price\n",
        "np_option_data1 = np.loadtext('src/20optiondata2_1.dat', comment = '#', delimeter = ',')\n",
        "# delimeter: a sequence of one or more characters used to specify the boundary between separate, independent regions in plain text or other data streams.\n",
        "\n",
        "print('otype, maturity, strike, option_price')\n",
        "print(np_option_data1)"
      ],
      "metadata": {
        "colab": {
          "base_uri": "https://localhost:8080/",
          "height": 387
        },
        "id": "Lelyqg6CNYpO",
        "outputId": "c49bcf73-dd8d-45d0-a9b4-27c14d6bce3a"
      },
      "execution_count": 2,
      "outputs": [
        {
          "output_type": "error",
          "ename": "AttributeError",
          "evalue": "ignored",
          "traceback": [
            "\u001b[0;31m---------------------------------------------------------------------------\u001b[0m",
            "\u001b[0;31mAttributeError\u001b[0m                            Traceback (most recent call last)",
            "\u001b[0;32m<ipython-input-2-02b905c922f7>\u001b[0m in \u001b[0;36m<module>\u001b[0;34m()\u001b[0m\n\u001b[1;32m      1\u001b[0m \u001b[0;31m# read datas\u001b[0m\u001b[0;34m\u001b[0m\u001b[0;34m\u001b[0m\u001b[0;34m\u001b[0m\u001b[0m\n\u001b[1;32m      2\u001b[0m \u001b[0;31m# four columns: otype, maturity, strike, option_price\u001b[0m\u001b[0;34m\u001b[0m\u001b[0;34m\u001b[0m\u001b[0;34m\u001b[0m\u001b[0m\n\u001b[0;32m----> 3\u001b[0;31m \u001b[0mnp_option_data1\u001b[0m \u001b[0;34m=\u001b[0m \u001b[0mnp\u001b[0m\u001b[0;34m.\u001b[0m\u001b[0mloadtext\u001b[0m\u001b[0;34m(\u001b[0m\u001b[0;34m'src/20optiondata2_1.dat'\u001b[0m\u001b[0;34m,\u001b[0m \u001b[0mcomment\u001b[0m \u001b[0;34m=\u001b[0m \u001b[0;34m'#'\u001b[0m\u001b[0;34m,\u001b[0m \u001b[0mdelimeter\u001b[0m \u001b[0;34m=\u001b[0m \u001b[0;34m','\u001b[0m\u001b[0;34m)\u001b[0m\u001b[0;34m\u001b[0m\u001b[0;34m\u001b[0m\u001b[0m\n\u001b[0m\u001b[1;32m      4\u001b[0m \u001b[0;31m# delimeter: a sequence of one or more characters used to specify the boundary between separate, independent regions in plain text or other data streams.\u001b[0m\u001b[0;34m\u001b[0m\u001b[0;34m\u001b[0m\u001b[0;34m\u001b[0m\u001b[0m\n\u001b[1;32m      5\u001b[0m \u001b[0;34m\u001b[0m\u001b[0m\n",
            "\u001b[0;32m/usr/local/lib/python3.7/dist-packages/numpy/__init__.py\u001b[0m in \u001b[0;36m__getattr__\u001b[0;34m(attr)\u001b[0m\n\u001b[1;32m    312\u001b[0m \u001b[0;34m\u001b[0m\u001b[0m\n\u001b[1;32m    313\u001b[0m             raise AttributeError(\"module {!r} has no attribute \"\n\u001b[0;32m--> 314\u001b[0;31m                                  \"{!r}\".format(__name__, attr))\n\u001b[0m\u001b[1;32m    315\u001b[0m \u001b[0;34m\u001b[0m\u001b[0m\n\u001b[1;32m    316\u001b[0m         \u001b[0;32mdef\u001b[0m \u001b[0m__dir__\u001b[0m\u001b[0;34m(\u001b[0m\u001b[0;34m)\u001b[0m\u001b[0;34m:\u001b[0m\u001b[0;34m\u001b[0m\u001b[0;34m\u001b[0m\u001b[0m\n",
            "\u001b[0;31mAttributeError\u001b[0m: module 'numpy' has no attribute 'loadtext'"
          ]
        }
      ]
    },
    {
      "cell_type": "code",
      "source": [
        "class VanillaOption:\n",
        "    def __init__(\n",
        "        self,\n",
        "        otype = 1, # 1: 'call'\n",
        "                  # -1: 'put'\n",
        "        strike = 110.,\n",
        "        maturity = 1.,\n",
        "        market_price = 10.):\n",
        "      self.otype = otype\n",
        "      self.strike = strike\n",
        "      self.maturity = maturity\n",
        "      self.market_price = market_price #this will be used for calibration\n",
        "      \n",
        "        \n",
        "    def payoff(self, s): #s: excercise price\n",
        "      otype = self.otype\n",
        "      k = self.strike\n",
        "      maturity = self.maturity\n",
        "      return max([0, (s - k)*otype])"
      ],
      "metadata": {
        "id": "wBEVRGjWRm61"
      },
      "execution_count": null,
      "outputs": []
    },
    {
      "cell_type": "code",
      "source": [
        "class Gbm:\n",
        "    def __init__(self,\n",
        "                 init_state = 100.,\n",
        "                 drift_ratio = .0475,\n",
        "                 vol_ratio = .2\n",
        "                ):\n",
        "        self.init_state = init_state\n",
        "        self.drift_ratio = drift_ratio\n",
        "        self.vol_ratio = vol_ratio"
      ],
      "metadata": {
        "id": "unkWnaW0Rn_W"
      },
      "execution_count": null,
      "outputs": []
    },
    {
      "cell_type": "code",
      "source": [
        "def bsm_price(self, vanilla_option):\n",
        "    s0 = self.init_state\n",
        "    sigma = self.vol_ratio\n",
        "    r = self.drift_ratio\n",
        "    \n",
        "    otype = vanilla_option.otype\n",
        "    k = vanilla_option.strike\n",
        "    maturity = vanilla_option.maturity\n",
        "    \n",
        "    d1 = (np.log(s0 / k) + (r + 0.5 * sigma ** 2) \n",
        "          * maturity) / (sigma * np.sqrt(maturity))\n",
        "    d2 = d1 - sigma * np.sqrt(maturity)\n",
        "    \n",
        "    return (otype * s0 * ss.norm.cdf(otype * d1) #line break needs parenthesis\n",
        "            - otype * np.exp(-r * maturity) * k * ss.norm.cdf(otype * d2))\n",
        "\n",
        "Gbm.bsm_price = bsm_price"
      ],
      "metadata": {
        "id": "J5qr3HNsRrGW"
      },
      "execution_count": null,
      "outputs": []
    },
    {
      "cell_type": "code",
      "source": [
        "def error_function(vol, gbm, option):\n",
        "  gbm.vol_ratio = vol\n",
        "  return abs(option.market_price - gbm.bsm_price(option))\n",
        "\n",
        "import scipy.optimize as so\n",
        "def implied_volatility(gbm, option):\n",
        "  init_vol = .1 #initial guess\n",
        "  return so.fmin(error_function, init_vol, \n",
        "                 args = (gbm, option), disp = 0)[0]"
      ],
      "metadata": {
        "id": "i5DsPCyCRud8"
      },
      "execution_count": null,
      "outputs": []
    },
    {
      "cell_type": "code",
      "source": [
        "num_row = np_option_data1.shape[0]\n",
        "option_list = []\n",
        "\n",
        "for i in range(num_row):\n",
        "  option1 = VanillaOption(\n",
        "      otype = np_option_data1[i,0],\n",
        "      strike = np_option_data1[i,2],\n",
        "      maturity = np_option_data1[i,1],\n",
        "      market_price = np_option_data1[i,3]\n",
        "  )   \n",
        "  option_list.append(option1)"
      ],
      "metadata": {
        "id": "MqcJeFI7R1bc"
      },
      "execution_count": null,
      "outputs": []
    },
    {
      "cell_type": "code",
      "source": [
        "#expand one column for vol\n",
        "np_option_data2 = np.append(np_option_data1, np.zeros([num_row,1]), axis = 1)\n",
        "#compute implied vols and add them into the last column\n",
        "for i in range(num_row):\n",
        "  np_option_data2[i,4] = implied_volatility(gbm1, option_list[i])\n",
        "  \n",
        "print('>>>>>>otype, maturity, strike, option_price, implied vol')\n",
        "print(np_option_data2)  "
      ],
      "metadata": {
        "id": "mrk4GoTAR4ja"
      },
      "execution_count": null,
      "outputs": []
    },
    {
      "cell_type": "code",
      "source": [
        "filter1 = np_option_data2[np_option_data2[:,1] == 2/12]\n",
        "plt.plot(filter1[:,2], filter1[:,4], label = '2 mon maturity')\n",
        "filter2 = np_option_data2[np_option_data2[:,1] == 5/12]\n",
        "plt.plot(filter2[:,2], filter2[:,4], label = '5 mon maturity')\n",
        "plt.ylabel('implied vol')\n",
        "plt.xlabel('strike')\n",
        "plt.legend();"
      ],
      "metadata": {
        "id": "wA9m4yH2R8V1"
      },
      "execution_count": null,
      "outputs": []
    }
  ]
}