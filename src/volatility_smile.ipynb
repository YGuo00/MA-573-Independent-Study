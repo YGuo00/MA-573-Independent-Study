{
  "nbformat": 4,
  "nbformat_minor": 0,
  "metadata": {
    "colab": {
      "name": "volatility_smile.ipynb",
      "provenance": [],
      "authorship_tag": "ABX9TyOzUamJaFqLqwGxQAqKYO/U",
      "include_colab_link": true
    },
    "kernelspec": {
      "name": "python3",
      "display_name": "Python 3"
    },
    "language_info": {
      "name": "python"
    }
  },
  "cells": [
    {
      "cell_type": "markdown",
      "metadata": {
        "id": "view-in-github",
        "colab_type": "text"
      },
      "source": [
        "<a href=\"https://colab.research.google.com/github/YGuo00/MA-573-Independent-Study/blob/main/src/volatility_smile.ipynb\" target=\"_parent\"><img src=\"https://colab.research.google.com/assets/colab-badge.svg\" alt=\"Open In Colab\"/></a>"
      ]
    },
    {
      "cell_type": "code",
      "execution_count": 20,
      "metadata": {
        "id": "z3FTA8enM5dv"
      },
      "outputs": [],
      "source": [
        "# import libraries\n",
        "import matplotlib.pyplot as plt\n",
        "import numpy as np\n",
        "import scipy.optimize as so    # library for minimization and maximization\n",
        "import scipy.stats as ss   # library for statistical function     "
      ]
    },
    {
      "cell_type": "code",
      "source": [
        "# read datas\n",
        "# four columns: otype, maturity, strike, option_price\n",
        "np_option_data1 = np.loadtxt('20optiondata2.dat', comments = '#', delimiter = ',')\n",
        "# delimeter: a sequence of one or more characters used to specify the boundary between separate, independent regions in plain text or other data streams.\n",
        "\n",
        "print('otype, maturity, strike, option_price')\n",
        "print(np_option_data1)"
      ],
      "metadata": {
        "colab": {
          "base_uri": "https://localhost:8080/"
        },
        "id": "Lelyqg6CNYpO",
        "outputId": "e1e214ee-f612-438d-d6a6-cfbe1e4298c4"
      },
      "execution_count": 21,
      "outputs": [
        {
          "output_type": "stream",
          "name": "stdout",
          "text": [
            "otype, maturity, strike, option_price\n",
            "[[  1.           0.16666667  97.           5.32705461]\n",
            " [  1.           0.16666667  99.           3.86224255]\n",
            " [  1.           0.16666667 101.           2.7204371 ]\n",
            " [  1.           0.16666667 103.           2.1202793 ]\n",
            " [  1.           0.41666667  97.           7.23756307]\n",
            " [  1.           0.41666667  99.           5.95053461]\n",
            " [  1.           0.41666667 101.           5.2640122 ]\n",
            " [  1.           0.41666667 103.           4.97493422]]\n"
          ]
        }
      ]
    },
    {
      "cell_type": "code",
      "source": [
        "class VanillaOption:\n",
        "    def __init__(\n",
        "        self,\n",
        "        otype = 1, # 1: 'call'\n",
        "                  # -1: 'put'\n",
        "        strike = 110.,\n",
        "        maturity = 1.,\n",
        "        market_price = 10.):\n",
        "      self.otype = otype\n",
        "      self.strike = strike\n",
        "      self.maturity = maturity\n",
        "      self.market_price = market_price #this will be used for calibration\n",
        "      \n",
        "        \n",
        "    def payoff(self, s): #s: excercise price\n",
        "      otype = self.otype\n",
        "      k = self.strike\n",
        "      maturity = self.maturity\n",
        "      return max([0, (s - k)*otype])"
      ],
      "metadata": {
        "id": "wBEVRGjWRm61"
      },
      "execution_count": 22,
      "outputs": []
    },
    {
      "cell_type": "code",
      "source": [
        "class Gbm:\n",
        "    def __init__(self,\n",
        "                 init_state = 100.,\n",
        "                 drift_ratio = .0475,\n",
        "                 vol_ratio = .2\n",
        "                ):\n",
        "        self.init_state = init_state\n",
        "        self.drift_ratio = drift_ratio\n",
        "        self.vol_ratio = vol_ratio"
      ],
      "metadata": {
        "id": "unkWnaW0Rn_W"
      },
      "execution_count": 8,
      "outputs": []
    },
    {
      "cell_type": "code",
      "source": [
        "def bsm_price(self, vanilla_option):\n",
        "    s0 = self.init_state\n",
        "    sigma = self.vol_ratio\n",
        "    r = self.drift_ratio\n",
        "    \n",
        "    otype = vanilla_option.otype\n",
        "    k = vanilla_option.strike\n",
        "    maturity = vanilla_option.maturity\n",
        "    \n",
        "    d1 = (np.log(s0 / k) + (r + 0.5 * sigma ** 2) \n",
        "          * maturity) / (sigma * np.sqrt(maturity))\n",
        "    d2 = d1 - sigma * np.sqrt(maturity)\n",
        "    \n",
        "    return (otype * s0 * ss.norm.cdf(otype * d1) #line break needs parenthesis\n",
        "            - otype * np.exp(-r * maturity) * k * ss.norm.cdf(otype * d2))\n",
        "\n",
        "Gbm.bsm_price = bsm_price"
      ],
      "metadata": {
        "id": "J5qr3HNsRrGW"
      },
      "execution_count": 9,
      "outputs": []
    },
    {
      "cell_type": "code",
      "source": [
        "def error_function(vol, gbm, option):\n",
        "  gbm.vol_ratio = vol\n",
        "  return abs(option.market_price - gbm.bsm_price(option))\n",
        "\n",
        "import scipy.optimize as so\n",
        "def implied_volatility(gbm, option):\n",
        "  init_vol = .1 #initial guess\n",
        "  return so.fmin(error_function, init_vol, \n",
        "                 args = (gbm, option), disp = 0)[0]"
      ],
      "metadata": {
        "id": "i5DsPCyCRud8"
      },
      "execution_count": 10,
      "outputs": []
    },
    {
      "cell_type": "code",
      "source": [
        "'''==============\n",
        "below defines for underlying process\n",
        "================='''\n",
        "gbm1 = Gbm(\n",
        "    init_state = 100., #market data\n",
        "    drift_ratio = .05, #market data\n",
        "    vol_ratio = .1 #initial guess\n",
        ")"
      ],
      "metadata": {
        "id": "1RCQchcUksj2"
      },
      "execution_count": 13,
      "outputs": []
    },
    {
      "cell_type": "code",
      "source": [
        "num_row = np_option_data1.shape[0]\n",
        "option_list = []\n",
        "\n",
        "for i in range(num_row):\n",
        "  option1 = VanillaOption(\n",
        "      otype = np_option_data1[i,0],\n",
        "      strike = np_option_data1[i,2],\n",
        "      maturity = np_option_data1[i,1],\n",
        "      market_price = np_option_data1[i,3]\n",
        "  )   \n",
        "  option_list.append(option1)"
      ],
      "metadata": {
        "id": "MqcJeFI7R1bc"
      },
      "execution_count": 14,
      "outputs": []
    },
    {
      "cell_type": "code",
      "source": [
        "#expand one column for vol\n",
        "np_option_data2 = np.append(np_option_data1, np.zeros([num_row,1]), axis = 1)\n",
        "#compute implied vols and add them into the last column\n",
        "for i in range(num_row):\n",
        "  np_option_data2[i,4] = implied_volatility(gbm1, option_list[i])\n",
        "  \n",
        "print('>>>>>>otype, maturity, strike, option_price, implied vol')\n",
        "print(np_option_data2)  "
      ],
      "metadata": {
        "id": "mrk4GoTAR4ja",
        "outputId": "7951e6cb-ce53-475f-a37a-ef67e82cb305",
        "colab": {
          "base_uri": "https://localhost:8080/"
        }
      },
      "execution_count": 15,
      "outputs": [
        {
          "output_type": "stream",
          "name": "stdout",
          "text": [
            ">>>>>>otype, maturity, strike, option_price, implied vol\n",
            "[[  1.           0.16666667  97.           5.32705461   0.19125   ]\n",
            " [  1.           0.16666667  99.           3.86224255   0.17724609]\n",
            " [  1.           0.16666667 101.           2.7204371    0.17183594]\n",
            " [  1.           0.16666667 103.           2.1202793    0.18681641]\n",
            " [  1.           0.41666667  97.           7.23756307   0.170625  ]\n",
            " [  1.           0.41666667  99.           5.95053461   0.16804688]\n",
            " [  1.           0.41666667 101.           5.2640122    0.18373047]\n",
            " [  1.           0.41666667 103.           4.97493422   0.20901367]]\n"
          ]
        }
      ]
    },
    {
      "cell_type": "code",
      "source": [
        "filter1 = np_option_data2[np_option_data2[:,1] == 2/12]\n",
        "plt.plot(filter1[:,2], filter1[:,4], label = '2 mon maturity')\n",
        "filter2 = np_option_data2[np_option_data2[:,1] == 5/12]\n",
        "plt.plot(filter2[:,2], filter2[:,4], label = '5 mon maturity')\n",
        "plt.ylabel('implied vol')\n",
        "plt.xlabel('strike')\n",
        "plt.legend();"
      ],
      "metadata": {
        "id": "wA9m4yH2R8V1",
        "outputId": "ddb85a88-40d4-4cd0-c425-8c73d345d19b",
        "colab": {
          "base_uri": "https://localhost:8080/",
          "height": 279
        }
      },
      "execution_count": 16,
      "outputs": [
        {
          "output_type": "display_data",
          "data": {
            "image/png": "[encoded data removed]",
            "text/plain": [
              "<Figure size 432x288 with 1 Axes>"
            ]
          },
          "metadata": {
            "needs_background": "light"
          }
        }
      ]
    }
  ]
}