{
  "cells": [
    {
      "metadata": {
        "trusted": true,
        "colab": {
          "base_uri": "https://localhost:8080/"
        },
        "id": "1BxRR5TMgDvD",
        "outputId": "6f6f34c7-8433-4b31-a358-86cfeaa6305b"
      },
      "cell_type": "code",
      "source": [
        "'''==========\n",
        "This is a python code\n",
        "========='''\n",
        "\n",
        "print('--->> first python test <<---')\n",
        "\n"
      ],
      "execution_count": null,
      "outputs": [
        {
          "output_type": "stream",
          "name": "stdout",
          "text": [
            "--->> first python test <<---\n"
          ]
        }
      ],
      "id": "1BxRR5TMgDvD"
    },
    {
      "cell_type": "markdown",
      "source": [
        "Test the possible LATEX symbols: \n",
        "\n",
        "Phi symbol: $\\Phi$\n",
        "\n",
        "Fraction symbol: $\\frac{a}{b}$\n",
        "\n",
        "Expenditial symbol: $e^{x}$\n",
        "    \n",
        "So, the density function is:\n",
        "    ${\\Phi(x)=\\frac{1}{\\sqrt{2\\pi}}\\{e^{-\\frac{1}{x^2}}}}$\n"
      ],
      "metadata": {
        "id": "l1py5MjtgjeN"
      },
      "id": "l1py5MjtgjeN"
    }
  ],
  "metadata": {
    "kernelspec": {
      "name": "python3",
      "display_name": "Python 3",
      "language": "python"
    },
    "language_info": {
      "name": "python",
      "version": "3.6.13",
      "mimetype": "text/x-python",
      "codemirror_mode": {
        "name": "ipython",
        "version": 3
      },
      "pygments_lexer": "ipython3",
      "nbconvert_exporter": "python",
      "file_extension": ".py"
    },
    "colab": {
      "name": "first_notebook_v01.ipynb",
      "provenance": []
    }
  },
  "nbformat": 4,
  "nbformat_minor": 5
}