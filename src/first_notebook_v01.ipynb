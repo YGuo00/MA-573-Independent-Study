{
  "cells": [
    {
      "metadata": {
        "trusted": true,
        "id": "1BxRR5TMgDvD",
        "outputId": "c7aa37e8-c23e-46b6-ee96-62e5c8ab1e04"
      },
      "cell_type": "code",
      "source": [
        "'''==========\n",
        "This is a python code\n",
        "========='''\n",
        "\n",
        "print('--->> first python test <<---')\n",
        "\n",
        "Test the possible LATEX symbols:\n",
        "Phi symbol: $\\Phi$\n",
        "Fraction symbol: $\\frac{a}{b}$\n",
        "Expenditial symbol: $\\e^x$\n",
        "    \n",
        "So, the density function is:\n",
        "    $\\Phi(x)$=$\\frac{1}{sqrt{2\\pi}}\\e^\\frac{1}{x^2}$\n"
      ],
      "execution_count": null,
      "outputs": [
        {
          "output_type": "error",
          "ename": "SyntaxError",
          "evalue": "invalid syntax (<ipython-input-1-e0a33573e179>, line 7)",
          "traceback": [
            "\u001b[0;36m  File \u001b[0;32m\"<ipython-input-1-e0a33573e179>\"\u001b[0;36m, line \u001b[0;32m7\u001b[0m\n\u001b[0;31m    Test the possible LATEX symbols:\u001b[0m\n\u001b[0m           ^\u001b[0m\n\u001b[0;31mSyntaxError\u001b[0m\u001b[0;31m:\u001b[0m invalid syntax\n"
          ]
        }
      ],
      "id": "1BxRR5TMgDvD"
    },
    {
      "metadata": {
        "trusted": true,
        "id": "410QGW8igDvG"
      },
      "cell_type": "code",
      "source": [
        ""
      ],
      "execution_count": null,
      "outputs": [],
      "id": "410QGW8igDvG"
    }
  ],
  "metadata": {
    "kernelspec": {
      "name": "python3",
      "display_name": "Python 3",
      "language": "python"
    },
    "language_info": {
      "name": "python",
      "version": "3.6.13",
      "mimetype": "text/x-python",
      "codemirror_mode": {
        "name": "ipython",
        "version": 3
      },
      "pygments_lexer": "ipython3",
      "nbconvert_exporter": "python",
      "file_extension": ".py"
    },
    "colab": {
      "name": "first_notebook_v01.ipynb",
      "provenance": []
    }
  },
  "nbformat": 4,
  "nbformat_minor": 5
}