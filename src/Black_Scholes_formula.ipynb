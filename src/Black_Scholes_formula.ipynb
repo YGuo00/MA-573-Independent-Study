{
  "nbformat": 4,
  "nbformat_minor": 0,
  "metadata": {
    "colab": {
      "name": "Black_Scholes formula.ipynb",
      "provenance": [],
      "authorship_tag": "ABX9TyN8Br1049C2YDm4mvq12Xpm",
      "include_colab_link": true
    },
    "kernelspec": {
      "name": "python3",
      "display_name": "Python 3"
    },
    "language_info": {
      "name": "python"
    }
  },
  "cells": [
    {
      "cell_type": "markdown",
      "metadata": {
        "id": "view-in-github",
        "colab_type": "text"
      },
      "source": [
        "<a href=\"https://colab.research.google.com/github/YGuo00/MA-573-Independent-Study/blob/main/src/Black_Scholes_formula.ipynb\" target=\"_parent\"><img src=\"https://colab.research.google.com/assets/colab-badge.svg\" alt=\"Open In Colab\"/></a>"
      ]
    },
    {
      "cell_type": "code",
      "execution_count": 29,
      "metadata": {
        "id": "b3ZVXpzhGqHX"
      },
      "outputs": [],
      "source": [
        "# Reload the defined option class\n",
        "# Create call/put class\n",
        "class VanillaOption:\n",
        "    def __init__(\n",
        "        self,\n",
        "        otype = 1,       # Here 1 implies \"call\"; -1 implies \"put\"\n",
        "        strike = 110,\n",
        "        maturity = 1,\n",
        "        market_price = 10.):\n",
        "      \n",
        "      self.otype = otype\n",
        "      self.strike = strike\n",
        "      self.maturity = maturity\n",
        "      self.market_price = market_price   # Will be used for calibration\n",
        "\n",
        "    def payoff(self, s):  # s: exercise price\n",
        "        otype = self.otype\n",
        "        k = self.strike\n",
        "        maturity = self.maturity\n",
        "        return max([0, (s - k) * otype])"
      ]
    },
    {
      "cell_type": "code",
      "source": [
        "import numpy as np\n",
        "import scipy.stats as ss "
      ],
      "metadata": {
        "id": "_s8iDczfG6J1"
      },
      "execution_count": 30,
      "outputs": []
    },
    {
      "cell_type": "code",
      "source": [
        "# Gbm class\n",
        "class Gbm:\n",
        "    def __init__(self,      # Initialized method\n",
        "                 init_state = 100,\n",
        "                 drift_ratio = .0475,\n",
        "                 vol_ratio = .2   # The volatility ratio is a technical measure used to identify price patterns and breakouts.\n",
        "                 ):\n",
        "      \n",
        "      self.init_state = init_state\n",
        "      self.drift_ratio = drift_ratio\n",
        "      self.vol_ratio = vol_ratio"
      ],
      "metadata": {
        "id": "XpHTDBhMHC61"
      },
      "execution_count": 31,
      "outputs": []
    },
    {
      "cell_type": "code",
      "source": [
        "# Black-Scholes formula\n",
        "def bsm_price(self, vanilla_option):\n",
        "      s0 = self.init_state\n",
        "      sigma = self.vol_ratio\n",
        "      r = self.drift_ratio\n",
        "\n",
        "      otype = vanilla_option.otype\n",
        "      k = vanilla_option.strike\n",
        "      maturity = vanilla_option.maturity\n",
        "\n",
        "      d1 = (np.log(s0 / k) + (r + 0.5 * sigma ** 2) * maturity) / (sigma * np.sqrt(maturity))               # \"**\": exponentiation\n",
        "      d2 = d1 - sigma * np.sqrt(maturity)\n",
        "\n",
        "      return (otype * s0 * ss.norm.cdf(otype * d1) - otype * np.exp(-r * maturity) * k * ss.norm.cdf(otype * d2))  # ss.norm: normal continuous r.v.\n",
        "\n",
        "Gbm.bsm_price = bsm_price"
      ],
      "metadata": {
        "id": "8Z17DAXkIPos"
      },
      "execution_count": 32,
      "outputs": []
    },
    {
      "cell_type": "code",
      "source": [
        "# Test price from Black-Scholes formula\n",
        "gbm1 = Gbm()\n",
        "option1 = VanillaOption(otype = 1)\n",
        "print('call value is ' + str(gbm1.bsm_price(option1)))\n",
        "option2 = VanillaOption(otype = -1)\n",
        "print('put value is ' + str(gbm1.bsm_price(option2)))"
      ],
      "metadata": {
        "colab": {
          "base_uri": "https://localhost:8080/"
        },
        "id": "E6ILqaVoK2Ds",
        "outputId": "b9758b26-b400-44bc-f55a-7a600a0bb1af"
      },
      "execution_count": 33,
      "outputs": [
        {
          "output_type": "stream",
          "name": "stdout",
          "text": [
            "call value is 5.943273183452838\n",
            "put value is 10.84042522804176\n"
          ]
        }
      ]
    }
  ]
}