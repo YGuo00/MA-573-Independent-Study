{
  "nbformat": 4,
  "nbformat_minor": 0,
  "metadata": {
    "colab": {
      "name": "black_scholes_model_greek.ipynb",
      "provenance": [],
      "authorship_tag": "ABX9TyMucY5hauSo+1CBJDczetDG",
      "include_colab_link": true
    },
    "kernelspec": {
      "name": "python3",
      "display_name": "Python 3"
    },
    "language_info": {
      "name": "python"
    }
  },
  "cells": [
    {
      "cell_type": "markdown",
      "metadata": {
        "id": "view-in-github",
        "colab_type": "text"
      },
      "source": [
        "<a href=\"https://colab.research.google.com/github/YGuo00/MA-573-Independent-Study/blob/main/src/black_scholes_model_greek.ipynb\" target=\"_parent\"><img src=\"https://colab.research.google.com/assets/colab-badge.svg\" alt=\"Open In Colab\"/></a>"
      ]
    },
    {
      "cell_type": "code",
      "execution_count": 13,
      "metadata": {
        "id": "r3ZzylRekx4w"
      },
      "outputs": [],
      "source": [
        "# libraries\n",
        "import numpy as np   # library for math operation\n",
        "import pandas as pd   # library for data strature\n",
        "import matplotlib.pyplot as plt   # library for plot\n",
        "import scipy.stats as ss   # library for statistical functions"
      ]
    },
    {
      "cell_type": "code",
      "source": [
        "# settings\n",
        "S0 = 100.0  \n",
        "t = 0.   \n",
        "K = 110.0   \n",
        "r = 0.0475   \n",
        "sigma = 0.20   \n",
        "T = 1.   "
      ],
      "metadata": {
        "id": "Hw9PvuoIl-UQ"
      },
      "execution_count": 14,
      "outputs": []
    },
    {
      "cell_type": "code",
      "source": [
        "def bsm_call_value(S0, K, T, r, sigma):\n",
        "    \n",
        "    d1 = (np.log(S0 / K) + (r + 0.5 * sigma ** 2) * T) / (sigma * np.sqrt(T))\n",
        "    d2 = d1 - sigma * np.sqrt(T)\n",
        "\n",
        "    call_value = S0 * ss.norm.cdf(d1) - np.exp(-r * T) * K * ss.norm.cdf(d2)   # ss.norm: normal continuous random variables\n",
        "\n",
        "    return call_value"
      ],
      "metadata": {
        "id": "k5ez2L30mVCE"
      },
      "execution_count": 15,
      "outputs": []
    },
    {
      "cell_type": "code",
      "source": [
        "# find exact delta\n",
        "def bsm_delta(S0, K, T, r, sigma):\n",
        "\n",
        "    d1 = (np.log(S0 / K) + (r + 0.5 * sigma ** 2) * T) / (sigma * np.sqrt(T))\n",
        "    \n",
        "    delta = ss.norm.cdf(d1)\n",
        "\n",
        "    return delta"
      ],
      "metadata": {
        "id": "aeHHHDtHoghu"
      },
      "execution_count": 16,
      "outputs": []
    },
    {
      "cell_type": "code",
      "source": [
        "bsm_delta(S0, K, T, r, sigma)"
      ],
      "metadata": {
        "id": "0mGa3wmyx4na",
        "outputId": "4ae800bb-b489-45e5-d53c-a33122e3310e",
        "colab": {
          "base_uri": "https://localhost:8080/"
        }
      },
      "execution_count": 17,
      "outputs": [
        {
          "output_type": "execute_result",
          "data": {
            "text/plain": [
              "0.44470496404281507"
            ]
          },
          "metadata": {},
          "execution_count": 17
        }
      ]
    },
    {
      "cell_type": "code",
      "source": [
        "# find exact theta\n",
        "def bsm_theta(S0, K, T, t, r, sigma):\n",
        "\n",
        "    d1 = (np.log(S0 / K) + (r + 0.5 * sigma ** 2) * T) / (sigma * np.sqrt(T))\n",
        "    d2 = d1 - sigma * np.sqrt(T)\n",
        "\n",
        "    theta = - (S0 * ss.norm.cdf(d1) * sigma) / (2 * np.sqrt(T - t)) - r * K * np.exp(- r * (T - t)) * ss.norm.cdf(d2)\n",
        "\n",
        "    return theta"
      ],
      "metadata": {
        "id": "qjY6_gB6p5fD"
      },
      "execution_count": 18,
      "outputs": []
    },
    {
      "cell_type": "code",
      "source": [
        "bsm_theta(S0, K, T, t, r, sigma)"
      ],
      "metadata": {
        "id": "Hk9qHXL7ykcL",
        "outputId": "10cf3a41-2f32-4fba-95c2-3528b22df3fc",
        "colab": {
          "base_uri": "https://localhost:8080/"
        }
      },
      "execution_count": 19,
      "outputs": [
        {
          "output_type": "execute_result",
          "data": {
            "text/plain": [
              "-6.277092743417512"
            ]
          },
          "metadata": {},
          "execution_count": 19
        }
      ]
    },
    {
      "cell_type": "code",
      "source": [
        "# definition of CFD\n",
        "h = 0.1   # step size\n",
        "\n",
        "def CFD(f, x, h):\n",
        "    return (f(x + h) - f(x - h)) / h / 2"
      ],
      "metadata": {
        "id": "wbP2PtJ6rUHS"
      },
      "execution_count": 20,
      "outputs": []
    },
    {
      "cell_type": "code",
      "source": [
        "# approximate delta\n",
        "f = lambda x: bsm_call_value(x, K, T, r, sigma)\n",
        "h = 0.1\n",
        "\n",
        "def CFD(f, x, h):\n",
        "    return (f(x + h) - f(x - h)) / h / 2"
      ],
      "metadata": {
        "id": "UzP_70VQCniN"
      },
      "execution_count": 21,
      "outputs": []
    },
    {
      "cell_type": "code",
      "source": [
        "CFD(f, S0, h)"
      ],
      "metadata": {
        "id": "Y8ncyk21z2yY",
        "outputId": "c1c58948-138f-459f-f4a1-422ab0a84699",
        "colab": {
          "base_uri": "https://localhost:8080/"
        }
      },
      "execution_count": 22,
      "outputs": [
        {
          "output_type": "execute_result",
          "data": {
            "text/plain": [
              "0.4447048637059581"
            ]
          },
          "metadata": {},
          "execution_count": 22
        }
      ]
    },
    {
      "cell_type": "code",
      "source": [
        "# approximate theta\n",
        "f = lambda x: bsm_call_value(S0, K, (T - x), r, sigma)\n",
        "h = 0.1\n",
        "\n",
        "def CFD(f, x, h):\n",
        "    return (f(x + h) - f(x - h)) / h / 2"
      ],
      "metadata": {
        "id": "YOY29eqWDBOI"
      },
      "execution_count": 23,
      "outputs": []
    },
    {
      "cell_type": "code",
      "source": [
        "CFD(f, 0, 0.01)"
      ],
      "metadata": {
        "id": "nXqOUalPEnd4",
        "outputId": "b766dbc0-3a52-4352-eff1-5bac1fe903ca",
        "colab": {
          "base_uri": "https://localhost:8080/"
        }
      },
      "execution_count": 25,
      "outputs": [
        {
          "output_type": "execute_result",
          "data": {
            "text/plain": [
              "-5.781102506968239"
            ]
          },
          "metadata": {},
          "execution_count": 25
        }
      ]
    }
  ]
}