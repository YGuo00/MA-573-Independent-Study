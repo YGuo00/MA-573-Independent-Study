{
  "nbformat": 4,
  "nbformat_minor": 0,
  "metadata": {
    "colab": {
      "name": "Monte_Carlo.ipynb",
      "provenance": [],
      "authorship_tag": "ABX9TyMKNFyUdTW6hBgpGzy+NIzB",
      "include_colab_link": true
    },
    "kernelspec": {
      "name": "python3",
      "display_name": "Python 3"
    },
    "language_info": {
      "name": "python"
    }
  },
  "cells": [
    {
      "cell_type": "markdown",
      "metadata": {
        "id": "view-in-github",
        "colab_type": "text"
      },
      "source": [
        "<a href=\"https://colab.research.google.com/github/YGuo00/MA-573-Independent-Study/blob/main/src/Monte_Carlo.ipynb\" target=\"_parent\"><img src=\"https://colab.research.google.com/assets/colab-badge.svg\" alt=\"Open In Colab\"/></a>"
      ]
    },
    {
      "cell_type": "code",
      "execution_count": 1,
      "metadata": {
        "colab": {
          "base_uri": "https://localhost:8080/",
          "height": 137
        },
        "id": "LjLAzTflJQay",
        "outputId": "8221f7d3-2631-49c3-9ae5-406b6144f852"
      },
      "outputs": [
        {
          "output_type": "error",
          "ename": "SyntaxError",
          "evalue": "ignored",
          "traceback": [
            "\u001b[0;36m  File \u001b[0;32m\"<ipython-input-1-912a995376d4>\"\u001b[0;36m, line \u001b[0;32m4\u001b[0m\n\u001b[0;31m    for i in range(1, N)\u001b[0m\n\u001b[0m                        ^\u001b[0m\n\u001b[0;31mSyntaxError\u001b[0m\u001b[0;31m:\u001b[0m invalid syntax\n"
          ]
        }
      ],
      "source": [
        "# algorithm: Monte Carlo estimation of pi\n",
        "def NCPI(N):\n",
        "    n = 0\n",
        "    for i in range(1, N)\n",
        "        if (X^2 + Y^2 < 1):\n",
        "            n = n + 1\n",
        "\n",
        "    return (4 * n) / N"
      ]
    },
    {
      "cell_type": "code",
      "source": [
        "# design or define estimator\n",
        "class estimator(N):\n",
        "    def fit(X, Y, a):    # fit method with X, Y being matrix input and a being vector output: \n",
        "                         # Fit function adjusts weights according to data values so that better accuracy can be achieved.\n",
        "        return estimator\n",
        "    def scorer(estimator, X, Y, a):    # returns the score of given model\n",
        "        if (estimator = 0) or (estimator = 4):\n",
        "            return 'not good'\n",
        "        if (estimator != 0) and (estimator != 4):\n",
        "            return 'not good' "
      ],
      "metadata": {
        "id": "bNPvPn-7MXGg"
      },
      "execution_count": null,
      "outputs": []
    },
    {
      "cell_type": "code",
      "source": [
        "estimator(10000)"
      ],
      "metadata": {
        "id": "bMix46HUTk4F"
      },
      "execution_count": null,
      "outputs": []
    }
  ]
}