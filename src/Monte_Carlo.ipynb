{
  "nbformat": 4,
  "nbformat_minor": 0,
  "metadata": {
    "colab": {
      "name": "Monte_Carlo.ipynb",
      "provenance": [],
      "authorship_tag": "ABX9TyOdUzYStGbH4w5Z3RSSOhdc",
      "include_colab_link": true
    },
    "kernelspec": {
      "name": "python3",
      "display_name": "Python 3"
    },
    "language_info": {
      "name": "python"
    }
  },
  "cells": [
    {
      "cell_type": "markdown",
      "metadata": {
        "id": "view-in-github",
        "colab_type": "text"
      },
      "source": [
        "<a href=\"https://colab.research.google.com/github/YGuo00/MA-573-Independent-Study/blob/main/src/Monte_Carlo.ipynb\" target=\"_parent\"><img src=\"https://colab.research.google.com/assets/colab-badge.svg\" alt=\"Open In Colab\"/></a>"
      ]
    },
    {
      "cell_type": "code",
      "source": [
        "import numpy as np"
      ],
      "metadata": {
        "id": "x0Ud__TShM76"
      },
      "execution_count": null,
      "outputs": []
    },
    {
      "cell_type": "code",
      "execution_count": null,
      "metadata": {
        "id": "LjLAzTflJQay"
      },
      "outputs": [],
      "source": [
        "# algorithm: Monte Carlo estimation of pi\n",
        "def MCPI(N):\n",
        "    n = 0\n",
        "    for i in range(1, N):\n",
        "        X = np.random.uniform(-1, 1)\n",
        "        Y = np.random.uniform(-1, 1)\n",
        "        if (X**2 + Y**2 < 1):\n",
        "            n = n + 1\n",
        "\n",
        "    return (4 * n) / N"
      ]
    },
    {
      "cell_type": "code",
      "source": [
        "MCPI(10000)"
      ],
      "metadata": {
        "id": "4ZSK6DSrhpPS",
        "outputId": "b0b045c0-1270-4cf5-d6a8-2975aa347520",
        "colab": {
          "base_uri": "https://localhost:8080/"
        }
      },
      "execution_count": null,
      "outputs": [
        {
          "output_type": "execute_result",
          "data": {
            "text/plain": [
              "3.1312"
            ]
          },
          "metadata": {},
          "execution_count": 19
        }
      ]
    },
    {
      "cell_type": "code",
      "source": [
        ""
      ],
      "metadata": {
        "id": "XRZsOqDRjrVB"
      },
      "execution_count": null,
      "outputs": []
    }
  ]
}