{
  "nbformat": 4,
  "nbformat_minor": 0,
  "metadata": {
    "colab": {
      "name": "Monte_Carlo.ipynb",
      "provenance": [],
      "authorship_tag": "ABX9TyPyp0cxvpzLK3/0jOxPFkf8",
      "include_colab_link": true
    },
    "kernelspec": {
      "name": "python3",
      "display_name": "Python 3"
    },
    "language_info": {
      "name": "python"
    }
  },
  "cells": [
    {
      "cell_type": "markdown",
      "metadata": {
        "id": "view-in-github",
        "colab_type": "text"
      },
      "source": [
        "<a href=\"https://colab.research.google.com/github/YGuo00/MA-573-Independent-Study/blob/main/src/Monte_Carlo.ipynb\" target=\"_parent\"><img src=\"https://colab.research.google.com/assets/colab-badge.svg\" alt=\"Open In Colab\"/></a>"
      ]
    },
    {
      "cell_type": "code",
      "source": [
        "import numpy as np\n",
        "import math"
      ],
      "metadata": {
        "id": "x0Ud__TShM76"
      },
      "execution_count": 1,
      "outputs": []
    },
    {
      "cell_type": "code",
      "execution_count": 2,
      "metadata": {
        "id": "LjLAzTflJQay"
      },
      "outputs": [],
      "source": [
        "# algorithm: Monte Carlo estimation of pi\n",
        "def MCPI(N):\n",
        "    n = 0\n",
        "    for i in range(1, N):\n",
        "        X = np.random.uniform(-1, 1)\n",
        "        Y = np.random.uniform(-1, 1)\n",
        "        if (X**2 + Y**2 < 1):\n",
        "            n = n + 1\n",
        "\n",
        "    return (4 * n) / N"
      ]
    },
    {
      "cell_type": "code",
      "source": [
        "MCPI(10000)"
      ],
      "metadata": {
        "id": "4ZSK6DSrhpPS",
        "outputId": "287a4dd2-fba7-496e-a3e5-34f69a428763",
        "colab": {
          "base_uri": "https://localhost:8080/"
        }
      },
      "execution_count": 3,
      "outputs": [
        {
          "output_type": "execute_result",
          "data": {
            "text/plain": [
              "3.1644"
            ]
          },
          "metadata": {},
          "execution_count": 3
        }
      ]
    },
    {
      "cell_type": "code",
      "source": [
        "def MSE(MCPI, alpha):\n",
        "\n",
        "    return (MCPI - alpha) ** 2"
      ],
      "metadata": {
        "id": "JWz5v7yugSBM"
      },
      "execution_count": 4,
      "outputs": []
    },
    {
      "cell_type": "code",
      "source": [
        "MSE(MCPI(10000),1000)"
      ],
      "metadata": {
        "id": "wk8iIejkiAe5",
        "outputId": "af3aae60-fd7a-4a63-b21b-2ebbf76c769f",
        "colab": {
          "base_uri": "https://localhost:8080/"
        }
      },
      "execution_count": 5,
      "outputs": [
        {
          "output_type": "execute_result",
          "data": {
            "text/plain": [
              "993705.9351039999"
            ]
          },
          "metadata": {},
          "execution_count": 5
        }
      ]
    },
    {
      "cell_type": "code",
      "source": [
        "def average(MCPI):\n",
        "    avg = sum(MCPI) / len(MCPI)\n",
        "\n",
        "    return avg\n",
        "\n",
        "def distance_function(MCPI):\n",
        "\n",
        "    return math.dist(MCPI, avg)\n",
        "\n",
        "def beta_M(M, MCPI):\n",
        "\n",
        "    return (1 / M) * math.dist(MCPI, avg)"
      ],
      "metadata": {
        "id": "n38Sx0OMkYiU"
      },
      "execution_count": 6,
      "outputs": []
    },
    {
      "cell_type": "code",
      "source": [
        "beta_M(100, MCPI(10000))"
      ],
      "metadata": {
        "id": "QKmV1MP4nK0l",
        "outputId": "956082ac-7e0e-42ae-8ead-bd34c4abac76",
        "colab": {
          "base_uri": "https://localhost:8080/",
          "height": 262
        }
      },
      "execution_count": 7,
      "outputs": [
        {
          "output_type": "error",
          "ename": "AttributeError",
          "evalue": "ignored",
          "traceback": [
            "\u001b[0;31m---------------------------------------------------------------------------\u001b[0m",
            "\u001b[0;31mAttributeError\u001b[0m                            Traceback (most recent call last)",
            "\u001b[0;32m<ipython-input-7-4bf6dc378f1d>\u001b[0m in \u001b[0;36m<module>\u001b[0;34m()\u001b[0m\n\u001b[0;32m----> 1\u001b[0;31m \u001b[0mbeta_M\u001b[0m\u001b[0;34m(\u001b[0m\u001b[0;36m100\u001b[0m\u001b[0;34m,\u001b[0m \u001b[0mMCPI\u001b[0m\u001b[0;34m(\u001b[0m\u001b[0;36m10000\u001b[0m\u001b[0;34m)\u001b[0m\u001b[0;34m)\u001b[0m\u001b[0;34m\u001b[0m\u001b[0;34m\u001b[0m\u001b[0m\n\u001b[0m",
            "\u001b[0;32m<ipython-input-6-0b11e11a1778>\u001b[0m in \u001b[0;36mbeta_M\u001b[0;34m(M, MCPI)\u001b[0m\n\u001b[1;32m     10\u001b[0m \u001b[0;32mdef\u001b[0m \u001b[0mbeta_M\u001b[0m\u001b[0;34m(\u001b[0m\u001b[0mM\u001b[0m\u001b[0;34m,\u001b[0m \u001b[0mMCPI\u001b[0m\u001b[0;34m)\u001b[0m\u001b[0;34m:\u001b[0m\u001b[0;34m\u001b[0m\u001b[0;34m\u001b[0m\u001b[0m\n\u001b[1;32m     11\u001b[0m \u001b[0;34m\u001b[0m\u001b[0m\n\u001b[0;32m---> 12\u001b[0;31m     \u001b[0;32mreturn\u001b[0m \u001b[0;34m(\u001b[0m\u001b[0;36m1\u001b[0m \u001b[0;34m/\u001b[0m \u001b[0mM\u001b[0m\u001b[0;34m)\u001b[0m \u001b[0;34m*\u001b[0m \u001b[0mmath\u001b[0m\u001b[0;34m.\u001b[0m\u001b[0mdist\u001b[0m\u001b[0;34m(\u001b[0m\u001b[0mMCPI\u001b[0m\u001b[0;34m,\u001b[0m \u001b[0mavg\u001b[0m\u001b[0;34m)\u001b[0m\u001b[0;34m\u001b[0m\u001b[0;34m\u001b[0m\u001b[0m\n\u001b[0m",
            "\u001b[0;31mAttributeError\u001b[0m: module 'math' has no attribute 'dist'"
          ]
        }
      ]
    }
  ]
}