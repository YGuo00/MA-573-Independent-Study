{
  "nbformat": 4,
  "nbformat_minor": 0,
  "metadata": {
    "colab": {
      "name": "day4_hw1.ipynb",
      "provenance": [],
      "authorship_tag": "ABX9TyN48r48ZTovco2Zxe0OKNs4",
      "include_colab_link": true
    },
    "kernelspec": {
      "name": "python3",
      "display_name": "Python 3"
    },
    "language_info": {
      "name": "python"
    }
  },
  "cells": [
    {
      "cell_type": "markdown",
      "metadata": {
        "id": "view-in-github",
        "colab_type": "text"
      },
      "source": [
        "<a href=\"https://colab.research.google.com/github/YGuo00/MA-573-Independent-Study/blob/main/src/day4_hw1.ipynb\" target=\"_parent\"><img src=\"https://colab.research.google.com/assets/colab-badge.svg\" alt=\"Open In Colab\"/></a>"
      ]
    },
    {
      "cell_type": "code",
      "execution_count": 1,
      "metadata": {
        "id": "oegBocj1T7DZ"
      },
      "outputs": [],
      "source": [
        "class VanillaOption:\n",
        "    def __init__(\n",
        "        self,\n",
        "        otype = 1,       # Here 1 implies \"call\"; -1 implies \"put\"\n",
        "        strike = 110,\n",
        "        maturity = 1,\n",
        "        market_price = 10.):\n",
        "      \n",
        "      self.otype = otype\n",
        "      self.strike = strike\n",
        "      self.maturity = maturity\n",
        "      self.market_price = market_price   \n",
        "      \n",
        "    def payoff(self, s):  # s: exercise price\n",
        "        otype = self.otype\n",
        "        k = self.strike\n",
        "        maturity = self.maturity\n",
        "        return max([0, (s - k) * otype])"
      ]
    },
    {
      "cell_type": "code",
      "source": [
        "import matplotlib.pyplot as plt"
      ],
      "metadata": {
        "id": "0Ro3QssrUL1t"
      },
      "execution_count": 2,
      "outputs": []
    },
    {
      "cell_type": "code",
      "source": [
        "opt1 = VanillaOption(otype = 1, strike = 40, maturity = 1.)\n",
        "stk_list = range(20, 80)\n",
        "payoff_list = [opt1.payoff(s) for s in stk_list]\n",
        "plt.plot(stk_list, payoff_list)\n",
        "\n",
        "opt2 = VanillaOption(otype = -1, strike = 40, maturity = 1.)\n",
        "stk_list = range(40, 80)\n",
        "payoff_list = [opt2.payoff(s) for s in stk_list]\n",
        "plt.plot(stk_list, payoff_list)\n",
        "\n",
        "plt.xlabel('exercise price')\n",
        "plt.ylabel('payoff')\n",
        "plt.title('40-strike call')\n",
        "plt.show()"
      ],
      "metadata": {
        "colab": {
          "base_uri": "https://localhost:8080/",
          "height": 295
        },
        "id": "ctuXJoB3UMll",
        "outputId": "49c2b121-be0a-477d-ca66-9d2ea14d8704"
      },
      "execution_count": 15,
      "outputs": [
        {
          "output_type": "display_data",
          "data": {
            "image/png": "[encoded data removed]",
            "text/plain": [
              "<Figure size 432x288 with 1 Axes>"
            ]
          },
          "metadata": {
            "needs_background": "light"
          }
        }
      ]
    }
  ]
}