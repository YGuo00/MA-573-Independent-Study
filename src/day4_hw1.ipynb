{
  "nbformat": 4,
  "nbformat_minor": 0,
  "metadata": {
    "colab": {
      "name": "day4_hw1.ipynb",
      "provenance": [],
      "authorship_tag": "ABX9TyOx+92szx/oErs3LZGYBQHs",
      "include_colab_link": true
    },
    "kernelspec": {
      "name": "python3",
      "display_name": "Python 3"
    },
    "language_info": {
      "name": "python"
    }
  },
  "cells": [
    {
      "cell_type": "markdown",
      "metadata": {
        "id": "view-in-github",
        "colab_type": "text"
      },
      "source": [
        "<a href=\"https://colab.research.google.com/github/YGuo00/MA-573-Independent-Study/blob/main/src/day4_hw1.ipynb\" target=\"_parent\"><img src=\"https://colab.research.google.com/assets/colab-badge.svg\" alt=\"Open In Colab\"/></a>"
      ]
    },
    {
      "cell_type": "code",
      "execution_count": 4,
      "metadata": {
        "id": "oegBocj1T7DZ"
      },
      "outputs": [],
      "source": [
        "class VanillaOption:\n",
        "    def __init__(\n",
        "        self,\n",
        "        otype = 1,       # Here 1 implies \"call\"; -1 implies \"put\"\n",
        "        strike = 110,\n",
        "        maturity = 1,\n",
        "        market_price = 10.):\n",
        "      \n",
        "      self.otype = otype\n",
        "      self.strike = strike\n",
        "      self.maturity = maturity\n",
        "      self.market_price = market_price"
      ]
    },
    {
      "cell_type": "code",
      "source": [
        "import matplotlib.pyplot as plt\n",
        "import numpy as np"
      ],
      "metadata": {
        "id": "0Ro3QssrUL1t"
      },
      "execution_count": 7,
      "outputs": []
    },
    {
      "cell_type": "code",
      "source": [
        "def payoff_straddle(s, k):  # s: exercise price\n",
        "        payoff_short_call = - max([0, s - k])\n",
        "        payoff_short_put = - max([0, k - s])\n",
        "        return payoff_short_call + payoff_short_put\n",
        "\n",
        "stock_list = range(10, 70)\n",
        "payoff_list = [- payoff_straddle(s, 40) for s in stock_list]\n",
        "\n",
        "plt.plot(stock_list, payoff_list)"
      ],
      "metadata": {
        "colab": {
          "base_uri": "https://localhost:8080/",
          "height": 282
        },
        "id": "ctuXJoB3UMll",
        "outputId": "5788de27-9979-4db9-af12-191b3de6e9d7"
      },
      "execution_count": 11,
      "outputs": [
        {
          "output_type": "execute_result",
          "data": {
            "text/plain": [
              "[<matplotlib.lines.Line2D at 0x7fec326e2390>]"
            ]
          },
          "metadata": {},
          "execution_count": 11
        },
        {
          "output_type": "display_data",
          "data": {
            "image/png": "[encoded data removed]",
            "text/plain": [
              "<Figure size 432x288 with 1 Axes>"
            ]
          },
          "metadata": {
            "needs_background": "light"
          }
        }
      ]
    }
  ]
}