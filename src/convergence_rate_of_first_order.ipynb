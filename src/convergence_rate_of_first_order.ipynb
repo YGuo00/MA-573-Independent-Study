{
  "nbformat": 4,
  "nbformat_minor": 0,
  "metadata": {
    "colab": {
      "name": "Untitled3.ipynb",
      "provenance": [],
      "authorship_tag": "ABX9TyOx3+U7LCUsC353tmjY8wkJ",
      "include_colab_link": true
    },
    "kernelspec": {
      "name": "python3",
      "display_name": "Python 3"
    },
    "language_info": {
      "name": "python"
    }
  },
  "cells": [
    {
      "cell_type": "markdown",
      "metadata": {
        "id": "view-in-github",
        "colab_type": "text"
      },
      "source": [
        "<a href=\"https://colab.research.google.com/github/YGuo00/MA-573-Independent-Study/blob/main/src/convergence_rate_of_first_order.ipynb\" target=\"_parent\"><img src=\"https://colab.research.google.com/assets/colab-badge.svg\" alt=\"Open In Colab\"/></a>"
      ]
    },
    {
      "cell_type": "code",
      "execution_count": 1,
      "metadata": {
        "id": "4zWsH3Yqvvz7"
      },
      "outputs": [],
      "source": [
        "import numpy as np\n",
        "import matplotlib.pyplot as plt       # Import libraries"
      ]
    },
    {
      "cell_type": "code",
      "source": [
        "def ffd(f, x, h):\n",
        "    return (f(x + h) - f(x))/h\n",
        "\n",
        "def bfd(f, x, h):\n",
        "    return (f(x) - f(x - h))/h\n",
        "\n",
        "def cfd(f, x, h):\n",
        "    return (f(x + h) - f(x - h))/h      # Definitions"
      ],
      "metadata": {
        "id": "OXbsWQdswbMs"
      },
      "execution_count": 3,
      "outputs": []
    },
    {
      "cell_type": "code",
      "source": [
        "x_target = np.pi/3        # Define the target point\n",
        "y_target = np.cos(x_target)        # Define the exact derivative value at the target point"
      ],
      "metadata": {
        "id": "kuDKHbX7w--l"
      },
      "execution_count": 4,
      "outputs": []
    },
    {
      "cell_type": "code",
      "source": [
        "nn = np.arange(5, 11)        # np.arange: return evenly spaced values within a given interval\n",
        "hh = 1/np.power(2, nn)       # Step sizes\n",
        "err = ffd(np.sin, x_target, hh)     # Errors corresponding to each step size\n",
        "yy = np.log2(np.abs(err))        # np.abs: calculate the absolute value\n",
        "plt.plot(nn, yy)"
      ],
      "metadata": {
        "colab": {
          "base_uri": "https://localhost:8080/",
          "height": 283
        },
        "id": "MlEEFdGExZ6d",
        "outputId": "bf9acb68-5170-45f1-802c-6e1a879a80aa"
      },
      "execution_count": 5,
      "outputs": [
        {
          "output_type": "execute_result",
          "data": {
            "text/plain": [
              "[<matplotlib.lines.Line2D at 0x7f1bf8154790>]"
            ]
          },
          "metadata": {},
          "execution_count": 5
        },
        {
          "output_type": "display_data",
          "data": {
            "image/png": "[encoded data removed]",
            "text/plain": [
              "<Figure size 432x288 with 1 Axes>"
            ]
          },
          "metadata": {
            "needs_background": "light"
          }
        }
      ]
    },
    {
      "cell_type": "code",
      "source": [
        "import scipy.stats as ss        # Import library: statistical function\n",
        "out = ss.linregress(nn, yy)     # ss.linregress: calculate a linear least-squares regression for two sets of measurement\n",
        "print('The convergence order is ' + str(-out[0]))"
      ],
      "metadata": {
        "colab": {
          "base_uri": "https://localhost:8080/"
        },
        "id": "sd-eWr7A2Xy-",
        "outputId": "e22c9e5f-21ad-422b-99ea-fb633ba46e55"
      },
      "execution_count": 6,
      "outputs": [
        {
          "output_type": "stream",
          "name": "stdout",
          "text": [
            "The convergence order is -0.007135051789920567\n"
          ]
        }
      ]
    }
  ]
}