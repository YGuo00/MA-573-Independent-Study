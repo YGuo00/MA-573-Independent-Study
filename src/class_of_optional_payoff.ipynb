{
  "nbformat": 4,
  "nbformat_minor": 0,
  "metadata": {
    "colab": {
      "name": "class_of_optional_payoff.ipynb",
      "provenance": [],
      "authorship_tag": "ABX9TyPNNs8KzD/o89zcfii5uDOU",
      "include_colab_link": true
    },
    "kernelspec": {
      "name": "python3",
      "display_name": "Python 3"
    },
    "language_info": {
      "name": "python"
    }
  },
  "cells": [
    {
      "cell_type": "markdown",
      "metadata": {
        "id": "view-in-github",
        "colab_type": "text"
      },
      "source": [
        "<a href=\"https://colab.research.google.com/github/YGuo00/MA-573-Independent-Study/blob/main/src/class_of_optional_payoff.ipynb\" target=\"_parent\"><img src=\"https://colab.research.google.com/assets/colab-badge.svg\" alt=\"Open In Colab\"/></a>"
      ]
    },
    {
      "cell_type": "code",
      "execution_count": 1,
      "metadata": {
        "id": "FIFKowdgCDhR"
      },
      "outputs": [],
      "source": [
        "# Create call/put class\n",
        "class VanillaOption:\n",
        "    def __init__(\n",
        "        self,\n",
        "        otype = 1,       # Here 1 implies \"call\"; -1 implies \"put\"\n",
        "        strike = 110,\n",
        "        maturity = 1,\n",
        "        market_price = 10.):\n",
        "      \n",
        "      self.otype = otype\n",
        "      self.strike = strike\n",
        "      self.maturity = maturity\n",
        "      self.market_price = market_price   # Will be used for calibration\n",
        "\n",
        "    def payoff(self, s):  # s: exercise price\n",
        "        otype = self.otype\n",
        "        k = self.strike\n",
        "        maturity = self.maturity\n",
        "        return max([0, (s - k) * otype])"
      ]
    },
    {
      "cell_type": "code",
      "source": [
        "# Testing example: 40-strike call as a function of exercise price\n",
        "import matplotlib.pyplot as plt"
      ],
      "metadata": {
        "id": "ITSbixYnEOrZ"
      },
      "execution_count": 2,
      "outputs": []
    },
    {
      "cell_type": "code",
      "source": [
        "# Create sample option with given maturity\n",
        "opt1 = VanillaOption(otype = 1, strike = 40, maturity = 1.)\n",
        "stk_list = range(20, 61)\n",
        "payoff_list = [opt1.payoff(s) for s in stk_list]\n",
        "plt.plot(stk_list, payoff_list)\n",
        "\n",
        "# Labels\n",
        "plt.xlabel('exercise price')\n",
        "plt.ylabel('payoff')\n",
        "plt.title('40-strike call')\n",
        "plt.show()"
      ],
      "metadata": {
        "colab": {
          "base_uri": "https://localhost:8080/",
          "height": 295
        },
        "id": "rhbe_Hl-EfXO",
        "outputId": "2e48453c-c654-4396-fc30-8c157d71774f"
      },
      "execution_count": 3,
      "outputs": [
        {
          "output_type": "display_data",
          "data": {
            "image/png": "[encoded data removed]",
            "text/plain": [
              "<Figure size 432x288 with 1 Axes>"
            ]
          },
          "metadata": {
            "needs_background": "light"
          }
        }
      ]
    }
  ]
}