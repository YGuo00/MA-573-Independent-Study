{
  "nbformat": 4,
  "nbformat_minor": 0,
  "metadata": {
    "colab": {
      "name": "Untitled5.ipynb",
      "provenance": [],
      "authorship_tag": "ABX9TyMIlrsG0YHCS0TVLhL+VhG5",
      "include_colab_link": true
    },
    "kernelspec": {
      "name": "python3",
      "display_name": "Python 3"
    },
    "language_info": {
      "name": "python"
    }
  },
  "cells": [
    {
      "cell_type": "markdown",
      "metadata": {
        "id": "view-in-github",
        "colab_type": "text"
      },
      "source": [
        "<a href=\"https://colab.research.google.com/github/YGuo00/MA-573-Independent-Study/blob/main/Brownian_path/src.ipynb\" target=\"_parent\"><img src=\"https://colab.research.google.com/assets/colab-badge.svg\" alt=\"Open In Colab\"/></a>"
      ]
    },
    {
      "cell_type": "code",
      "source": [
        "# libraries\n",
        "import numpy as np\n",
        "import matplotlib.pyplot as plt"
      ],
      "metadata": {
        "id": "Xgr9VejLZ4MT"
      },
      "execution_count": null,
      "outputs": []
    },
    {
      "cell_type": "code",
      "source": [
        "# code of Brownian Motion Simulation\n",
        "def Brownian_Motion():\n",
        "    n = 10   # number of time step\n",
        "    T = 1.  \n",
        "    time = np.linspace(0, T, n)   # np.linspace: return evenly spaced numbers\n",
        "    Dt = time[1] - time[0]   # difference of time\n",
        "    # difference of Brownian at time 1 and at time 0 has a normal distribution of with mean 0 and variance the difference of time\n",
        "    DB = np.sqrt(Dt) * np.random.normal(n-1, 0)   # difference of Brownian; (n-1, 0) the size\n",
        "    B0 = np.zeros(1, 0)   # Brownian at time 0 with a given shape and type\n",
        "    B = np.concatenate(B0, np.cumsum(DB))   # np.concatenate: join a sequence of array; np.cumsum: return the cumulated sum"
      ],
      "metadata": {
        "id": "lc4oSpNGaBo1"
      },
      "execution_count": null,
      "outputs": []
    },
    {
      "cell_type": "code",
      "source": [
        "\\usepackage{algorithm}\n",
        "\\usepackage{algorithmic}"
      ],
      "metadata": {
        "id": "4Gt2q_IgP51u"
      },
      "execution_count": null,
      "outputs": []
    },
    {
      "cell_type": "code",
      "source": [
        "\\begin{algorithm}\n",
        "\\caption{Use the projection of the brownian path, generate $\\hat{W}$ to simulate a discrete path $\\left \\langle W,\\Pi_{T, N} \\right \\langle$.}\n",
        "\\begin{algorithmic}\n",
        "\\PROCEDURE{ExactBM$(T, N)$:}\n",
        "\\SET $ n \\leftarrow 10 $\n",
        "\\SET $ T \\leftarrow t0 $   # initial values\n",
        "\\IF{$t_{0} = 0 < t_{1} < t_{2} < ... < t_{n}$}\n",
        "\\STATE $B(t_{1}) - B(t_{0})$ is increasing\n",
        "\\STATE $B(t_{2}) - B(t_{1})$ is increasing\n",
        "\\STATE $B(t_{i}) - B(t_{i - 1}) is increasing\n",
        "\\ENDIF\n",
        "\\SET $B(t) \\leftarrow \\sqrt{t}Z$\n",
        "\\IF $B(s + t) \\leftarrow B(s) + (B(s + t) - B(s))$\n",
        "\\ANDIF $\\sqrt{t_{i} - t_{i - 1}}Z_{i} \\leftarrow B(t_{i}) - B(t_{i - 1})\n",
        "\\STATE $B(t_{i}) \\leftarrow B(t_{i - 1}) + (B(t_{i}) - B(t_{i - 1})$\n",
        "\\THEN $B(t_{i}) \\leftarrow B(t_{i - 1}) \\sqrt{t_{i} - t_{i - 1}}Z_{i}$\n",
        "\\ENDIF\n",
        "\\end{algorithmic}\n",
        "\\end{algorithm}"
      ],
      "metadata": {
        "id": "lS6GusDzVkID"
      },
      "execution_count": null,
      "outputs": []
    }
  ]
}