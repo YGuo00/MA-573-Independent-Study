{
  "nbformat": 4,
  "nbformat_minor": 0,
  "metadata": {
    "colab": {
      "name": "Untitled5.ipynb",
      "provenance": [],
      "authorship_tag": "ABX9TyOaT3B2LEepIlVQsjl7iQfS",
      "include_colab_link": true
    },
    "kernelspec": {
      "name": "python3",
      "display_name": "Python 3"
    },
    "language_info": {
      "name": "python"
    }
  },
  "cells": [
    {
      "cell_type": "markdown",
      "metadata": {
        "id": "view-in-github",
        "colab_type": "text"
      },
      "source": [
        "<a href=\"https://colab.research.google.com/github/YGuo00/MA-573-Independent-Study/blob/main/Brownian_path/src.ipynb\" target=\"_parent\"><img src=\"https://colab.research.google.com/assets/colab-badge.svg\" alt=\"Open In Colab\"/></a>"
      ]
    },
    {
      "cell_type": "code",
      "source": [
        "# libraries\n",
        "import numpy as np\n",
        "import matplotlib.pyplot as plt"
      ],
      "metadata": {
        "id": "Xgr9VejLZ4MT"
      },
      "execution_count": 3,
      "outputs": []
    },
    {
      "cell_type": "code",
      "source": [
        "# code of Brownian Motion Simulation\n",
        "def Brownian_Motion():\n",
        "    n = 10   # number of time step\n",
        "    T = 1.  \n",
        "    time = np.linspace(0, T, n)   # np.linspace: return evenly spaced numbers\n",
        "    Dt = time[1] - time[0]   # difference of time\n",
        "    # difference of Brownian at time 1 and at time 0 has a normal distribution of with mean 0 and variance the difference of time\n",
        "    DB = np.sqrt(Dt) * np.random.normal(n-1, 0)   # difference of Brownian; (n-1, 0) the size\n",
        "    B0 = np.zeros(1, 0)   # Brownian at time 0 with a given shape and type\n",
        "    B = np.concatenate(B0, np.cumsum(DB))   # np.concatenate: join a sequence of array; np.cumsum: return the cumulated sum"
      ],
      "metadata": {
        "id": "lc4oSpNGaBo1"
      },
      "execution_count": 4,
      "outputs": []
    },
    {
      "cell_type": "code",
      "source": [
        "\\usepackage{algorithm}\n",
        "\\usepackage{algorithmic}"
      ],
      "metadata": {
        "id": "4Gt2q_IgP51u"
      },
      "execution_count": null,
      "outputs": []
    },
    {
      "cell_type": "code",
      "source": [
        "\\begin{algorithm}\n",
        "\\caption{Use the projection of the brownian path, generate $\\hat{W}$ to simulate a discrete path $\\left \\langle W,\\Pi_{T, N} \\right \\langle$.}\n",
        "\\begin{algorithmic}\n",
        "\\PROCEDURE{ExactBM$(T, N)$:}\n",
        "\\SET $ n = 10 $\n",
        "\\SET $ T = 1 $   # initial values\n",
        "\n"
      ],
      "metadata": {
        "id": "lS6GusDzVkID"
      },
      "execution_count": null,
      "outputs": []
    }
  ]
}